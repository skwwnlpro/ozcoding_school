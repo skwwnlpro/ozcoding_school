{
 "cells": [
  {
   "cell_type": "markdown",
   "metadata": {},
   "source": [
    "<span style=\"font-size:100%\">\n",
    "\n",
    "수업은 모두 열심히 들으셨나요?\n",
    "\n",
    "간혹 강의에서 언급되지 않은 내용이 문제로 나올 수 있습니다.<br>\n",
    "그럴땐 강의 내용 외 문제는 구글링을 통해 해결해주세요<br></span>\n",
    "<span style=\"font-size:80%\">\n",
    "(구글링 또한 개발자가 갖쳐야할 역량 중에 하나랍니다 😊)\n",
    "</span>\n",
    "\n",
    "---"
   ]
  },
  {
   "cell_type": "markdown",
   "metadata": {},
   "source": [
    "<span style=\"font-size:80%\">[문제1]<br><br></span>\n",
    "```인터프리트 방식에 대해 설명하고 2개 이상의 장점을 설명해주세요```"
   ]
  },
  {
   "cell_type": "markdown",
   "metadata": {},
   "source": [
    "<span style=\"color:red\">답변</span>"
   ]
  },
  {
   "cell_type": "markdown",
   "metadata": {},
   "source": [
    "인터프리터란? \n",
    "= 프로그램 코드를 한 줄씩 바로 번역 후에 실행합니다.\n",
    "\n",
    "#### 장점\n",
    "1. 즉시 실행이 가능하여 번역이 빠르다.\n",
    "2. 코드 작성 시에 타입의 제한이 없어 유연성이 좋습니다.\n",
    "3. 코드의 특정 부분만 실행할 수 있어, 디버깅이 좋습니다.\n",
    "4. 인터프리터만 있으면 다양한 OS에서 동일한 코드를 운영이 가능해 이식성이 뛰어납니다."
   ]
  },
  {
   "cell_type": "markdown",
   "metadata": {},
   "source": [
    "---"
   ]
  },
  {
   "cell_type": "markdown",
   "metadata": {},
   "source": [
    "<span style=\"font-size:80%\">[문제2]<br><br></span>\n",
    "```동적 타입 방식의 장점과 단점을 간략히 설명해주세요```"
   ]
  },
  {
   "cell_type": "markdown",
   "metadata": {},
   "source": [
    "<span style=\"color:red\">답변</span>"
   ]
  },
  {
   "cell_type": "markdown",
   "metadata": {},
   "source": [
    "장점 = 코드 작성 시에 타입의 제한이 없어 유연성이 높고 효율적입니다.\n",
    "\n",
    "단점 = 런타임에 타입을 확인하기 때문에 코드가 길거나 복잡하면 Debugging이 쉽지 않습니다."
   ]
  },
  {
   "cell_type": "markdown",
   "metadata": {},
   "source": [
    "---"
   ]
  },
  {
   "cell_type": "markdown",
   "metadata": {},
   "source": [
    "<span style=\"font-size:80%\">[문제3]<br><br></span>\n",
    "```Python으로 정적타입 방식의 코드를 작성할 수 있는 방법을 구글링을 통해 검색 후 설명해주세요```"
   ]
  },
  {
   "cell_type": "markdown",
   "metadata": {},
   "source": [
    "<span style=\"color:red\">답변</span>"
   ]
  },
  {
   "cell_type": "markdown",
   "metadata": {},
   "source": [
    "1. Type Hints\n",
    "= 변수 및 함수에 에상되는 데이터 타입을 명시할 수 있는 방법\n",
    "\n",
    "#### 코드 예시\n",
    "def greet(name: str) -> str:\n",
    "    return f\"Hello, {name}\"\n",
    "\n",
    "age: int = 30\n",
    "\n",
    "2. 정적 타입 검사 도구 - Mypy\n",
    "= mypy로 실행시키며 타입체크를 수행합니다."
   ]
  },
  {
   "cell_type": "markdown",
   "metadata": {},
   "source": [
    "---"
   ]
  },
  {
   "cell_type": "markdown",
   "metadata": {},
   "source": [
    "<span style=\"font-size:80%\">[문제4]<br><br></span>\n",
    "```프로세스와 스레드의 차이점을 설명해주세요```"
   ]
  },
  {
   "cell_type": "markdown",
   "metadata": {},
   "source": [
    "<span style=\"color:red\">답변</span>"
   ]
  },
  {
   "cell_type": "markdown",
   "metadata": {},
   "source": [
    "프로세스 = 프로세스는 실행 중인 프로그램의 인스턴스로, 실행 파일과 관련된 메모리, 파일 핸들, 데이터 세그먼트, 코드 세그먼트 등을 포함합니다\n",
    "\n",
    "스레드 = 프로세스 내에서 실행되는 가장 작은 실행 단위입니다. 각 프로세스는 여러 스레드를 가질 수 있으며, 모든 스레드는 동일한 메모리 공간을 공유합니다.\n",
    "\n",
    "#### 차이점\n",
    "메모리 사용: 프로세스는 독립적인 메모리 공간을 사용하고, 스레드는 동일 프로세스 내에서 메모리를 공유합니다.\n",
    "오버헤드: 프로세스 간 전환은 높은 오버헤드를 가지며, 스레드 간 전환은 낮은 오버헤드를 가집니다.\n",
    "안정성: 프로세스는 서로 격리되어 있어 하나의 프로세스가 문제가 생겨도 다른 프로세스에는 영향을 주지 않습니다. 반면, 하나의 스레드가 문제를 일으키면 같은 프로세스 내의 다른 스레드에도 영향을 줄 수 있습니다.\n",
    "병렬성: 스레드는 동일한 프로세스 내에서 병렬로 실행될 수 있으며, 멀티코어 시스템에서 효율적으로 동작합니다. 프로세스는 병렬 실행을 위해 별도의 프로세스를 생성해야 합니다."
   ]
  },
  {
   "cell_type": "markdown",
   "metadata": {},
   "source": [
    "---"
   ]
  },
  {
   "cell_type": "markdown",
   "metadata": {},
   "source": [
    "<span style=\"font-size:80%\">[문제5]<br><br></span>\n",
    "```Python 2버전대와 3버전대의 차이를 설명해주세요```"
   ]
  },
  {
   "cell_type": "markdown",
   "metadata": {},
   "source": [
    "<span style=\"color:red\">답변</span>"
   ]
  },
  {
   "cell_type": "markdown",
   "metadata": {},
   "source": [
    "### 차이점\n",
    "py2 -> py3\n",
    "\n",
    "1. print문 괄호 사용\n",
    "2. 문자열 처리에서 유니코드를 기본\n",
    "3. 입력 함수인 input()은 항상 문자열 반환 \n",
    "\n",
    "= 현대적인 프로그래밍 패러다임을 반영"
   ]
  },
  {
   "cell_type": "markdown",
   "metadata": {},
   "source": [
    "---"
   ]
  },
  {
   "cell_type": "markdown",
   "metadata": {},
   "source": [
    "<span style=\"font-size:80%\">[문제6]<br><br></span>\n",
    "```Python에서 메모리 관리는 어떻게 이루어지는지 설명해주세요```"
   ]
  },
  {
   "cell_type": "markdown",
   "metadata": {},
   "source": [
    "<span style=\"color:red\">답변</span>"
   ]
  },
  {
   "cell_type": "markdown",
   "metadata": {},
   "source": [
    "1. 레퍼런스 카운팅 (Reference Counting)\n",
    "Python은 기본적으로 레퍼런스 카운팅을 통해 메모리를 관리합니다. 객체가 생성되면 해당 객체를 참조하는 변수가 몇 개인지를 세는 카운터가 있습니다. 이 카운터가 0이 되면, 즉 더 이상 해당 객체를 참조하는 변수가 없으면, 메모리가 해제됩니다.\n",
    "\n",
    "2. 가비지 컬렉션 (Garbage Collection)\n",
    "레퍼런스 카운팅은 순환 참조(circular reference) 문제를 해결하지 못하기 때문에 Python은 추가적으로 가비지 컬렉터를 사용합니다. 가비지 컬렉터는 순환 참조를 감지하고 이를 해제하여 메모리를 관리합니다."
   ]
  }
 ],
 "metadata": {
  "language_info": {
   "name": "python"
  }
 },
 "nbformat": 4,
 "nbformat_minor": 2
}
